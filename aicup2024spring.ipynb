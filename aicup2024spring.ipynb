{
  "nbformat": 4,
  "nbformat_minor": 0,
  "metadata": {
    "colab": {
      "provenance": [],
      "gpuType": "T4",
      "toc_visible": true
    },
    "kernelspec": {
      "name": "python3",
      "display_name": "Python 3"
    },
    "language_info": {
      "name": "python"
    },
    "accelerator": "GPU"
  },
  "cells": [
    {
      "cell_type": "markdown",
      "source": [
        "# TEAM5003 Report\n",
        "## Notice\n",
        "Due to resource restrictions made by Google Colab. There might be a possibility that this script cannot run. If this is the case, please **upgrade your colab version to pro** or download this entire file and **run it on your server**. If any problem occurs, please make sure you have **checked the resource problem first**. Because it's impossible to download the train.zip file without a session token/cookie, we assume /train exists and that folder is the unzipped version provided by the host.\n",
        "## Why some part of this program is different from the provided code?\n",
        "Because **this is Google Colab, and Google Colab does not have conda nor python3.7**. Therefore, we have to install it differently.\n",
        "## How to run this file?\n",
        "First, download the train.zip file and unzip **on your own**, extracted to /train. Next download all\n",
        "Execute every cell and you will get what you want.\n",
        "## Why this file does not work, how to debug this file?\n",
        "1. Make sure you install all the dependencies correctly.\n",
        "1. Make sure you put the correct data in /train.\n",
        "1. Make sure you execute the cells by sequence.\n",
        "## What if it tells me I have a dependency problem?\n",
        "Please do notice that it's hard to install Anaconda in Google Colab, therefore we installed the python3.7 manual. However, there might still be some dependency problems. If you encounter any of them, just be aware that we solved it successfully on this file so that you can do it too!\n",
        "\n",
        "By the way, this notebook works on my colab."
      ],
      "metadata": {
        "id": "ItK29wsa92oQ"
      }
    },
    {
      "cell_type": "code",
      "source": [
        "# write our README.md\n",
        "with open('README.md', 'w') as writefile:\n",
        "    writefile.write(\"# TEAM5003 Report\\n## Notice\\nDue to resource restrictions made by Google Colab. There might be a possibility that this script cannot run. If this is the case, please **upgrade your colab version to pro** or download this entire file and **run it on your server**. If any problem occurs, please make sure you have **checked the resource problem first**. Because it's impossible to download the train.zip file without a session token/cookie, we assume /train exists and that folder is the unzipped version provided by the host.\\n## Why some part of this program is different from the provided code?\\nBecause **this is Google Colab, and Google Colab does not have conda nor python3.7**. Therefore, we have to install it differently.\\n## How to run this file?\\nFirst, download the train.zip file and unzip **on your own**, extracted to /train. Next download all\\nExecute every cell and you will get what you want.\\n## Why this file does not work, how to debug this file?\\n1. Make sure you install all the dependencies correctly.\\n1. Make sure you put the correct data in /train.\\n1. Make sure you execute the cells by sequence.\\n## What if it tells me I have a dependency problem?\\nPlease do notice that it's hard to install Anaconda in Google Colab, therefore we installed the python3.7 manual. However, there might still be some dependency problems. If you encounter any of them, just be aware that we solved it successfully on this file so that you can do it too!\\n\\nBy the way, this notebook works on my colab.\")"
      ],
      "metadata": {
        "id": "8pDm2FMaDc93"
      },
      "execution_count": null,
      "outputs": []
    },
    {
      "cell_type": "code",
      "execution_count": null,
      "metadata": {
        "id": "xXyQ8ST_9oCP"
      },
      "outputs": [],
      "source": [
        "!git clone https://github.com/ricky-696/AICUP_Baseline_BoT-SORT.git"
      ]
    },
    {
      "cell_type": "code",
      "source": [
        "!sudo apt-get install python3.7"
      ],
      "metadata": {
        "id": "tuwB6zAN-0um"
      },
      "execution_count": null,
      "outputs": []
    },
    {
      "cell_type": "code",
      "source": [
        "# Uninstall your current python version\n",
        "!sudo apt-get remove python3.10\n",
        "!sudo apt autoremove -y"
      ],
      "metadata": {
        "id": "_7ZawZucziPg"
      },
      "execution_count": null,
      "outputs": []
    },
    {
      "cell_type": "code",
      "source": [
        "# install all the pip with python 3.7 due to no conda on google colab (required by source code provided by competition host)\n",
        "!python3.7 --version\n",
        "!python --version\n",
        "!alias python3=python3.7\n",
        "!sudo update-alternatives --install /usr/bin/python3 python3 /usr/bin/python3.7 1\n",
        "!curl -O https://bootstrap.pypa.io/get-pip.py\n",
        "!sudo apt install python3.7-distutils\n",
        "!python get-pip.py"
      ],
      "metadata": {
        "id": "3VBloa0W_FeK"
      },
      "execution_count": null,
      "outputs": []
    },
    {
      "cell_type": "code",
      "source": [
        "!sed -i '27s/onnxruntime==1.8.0/onnxruntime/' AICUP_Baseline_BoT-SORT/requirements.txt"
      ],
      "metadata": {
        "id": "9fmFCzyWw_Ql"
      },
      "execution_count": null,
      "outputs": []
    },
    {
      "cell_type": "code",
      "source": [
        "!pip install pycocotools"
      ],
      "metadata": {
        "id": "RHMqv2k8ssGg"
      },
      "execution_count": null,
      "outputs": []
    },
    {
      "cell_type": "code",
      "source": [
        "!pip install lap"
      ],
      "metadata": {
        "id": "FCg-Nd97sUYw"
      },
      "execution_count": null,
      "outputs": []
    },
    {
      "cell_type": "code",
      "source": [
        "!pip install numpy\n",
        "!pip install -r AICUP_Baseline_BoT-SORT/requirements.txt\n",
        "!pip install cython; pip3 install 'git+https://github.com/cocodataset/cocoapi.git#subdirectory=PythonAPI'\n",
        "# Cython-bbox\n",
        "!pip install cython_bbox\n",
        "\n",
        "# faiss cpu / gpu\n",
        "!pip install faiss-gpu\n"
      ],
      "metadata": {
        "id": "GVzuLJSI_vJW"
      },
      "execution_count": null,
      "outputs": []
    },
    {
      "cell_type": "code",
      "source": [
        "# write our hyper param\n",
        "with open('hyp.yaml', 'w') as writefile:\n",
        "    writefile.write(\"# Hyperparameter Evolution Results\\n# Generations: 1\\n# Metrics:     0.7443    0.8729    0.8346    0.6399   0.02936   0.03507         0\\nlr0: 0.01\\nlrf: 0.1\\nmomentum: 0.937\\nweight_decay: 0.0005\\nwarmup_epochs: 3.0\\nwarmup_momentum: 0.8\\nwarmup_bias_lr: 0.1\\nbox: 0.05\\ncls: 0.3\\ncls_pw: 1.0\\nobj: 0.7\\nobj_pw: 1.0\\niou_t: 0.2\\nanchor_t: 4.0\\nfl_gamma: 0.0\\nhsv_h: 0.015\\nhsv_s: 0.7\\nhsv_v: 0.4\\ndegrees: 0.0\\ntranslate: 0.2\\nscale: 0.9\\nshear: 0.0\\nperspective: 0.0\\nflipud: 0.0\\nfliplr: 0.5\\nmosaic: 1.0\\nmixup: 0.15\\ncopy_paste: 0.0\\npaste_in: 0.15\\nanchors: 3.0\\n\")"
      ],
      "metadata": {
        "id": "Us-GkMMG3LyG"
      },
      "execution_count": null,
      "outputs": []
    },
    {
      "cell_type": "code",
      "source": [
        "!sed -i '2s/mnt/content/' /content/AICUP_Baseline_BoT-SORT/yolov7/data/AICUP.yaml\n",
        "!sed -i '2s/datasets\\///' /content/AICUP_Baseline_BoT-SORT/yolov7/data/AICUP.yaml\n",
        "!sed -i '2s/AI_CUP_MCMOT_dataset/AICUP_Baseline_BoT-SORT/' /content/AICUP_Baseline_BoT-SORT/yolov7/data/AICUP.yaml\n",
        "!sed -i '3s/mnt/content/' /content/AICUP_Baseline_BoT-SORT/yolov7/data/AICUP.yaml\n",
        "!sed -i '3s/datasets\\///' /content/AICUP_Baseline_BoT-SORT/yolov7/data/AICUP.yaml\n",
        "!sed -i '3s/AI_CUP_MCMOT_dataset/AICUP_Baseline_BoT-SORT/' /content/AICUP_Baseline_BoT-SORT/yolov7/data/AICUP.yaml"
      ],
      "metadata": {
        "id": "CY_seJ9OBxAm"
      },
      "execution_count": null,
      "outputs": []
    },
    {
      "cell_type": "code",
      "source": [
        "!curl -O https://github.com/WongKinYiu/yolov7/releases/download/v0.1/yolov7-d6_training.pt"
      ],
      "metadata": {
        "id": "92oY6vRd_R6x"
      },
      "execution_count": null,
      "outputs": []
    },
    {
      "cell_type": "code",
      "source": [
        "!python AICUP_Baseline_BoT-SORT/fast_reid/datasets/generate_AICUP_patches.py --data_path train"
      ],
      "metadata": {
        "id": "jGii6dXuAT3m"
      },
      "execution_count": null,
      "outputs": []
    },
    {
      "cell_type": "code",
      "source": [
        "!python3 AICUP_Baseline_BoT-SORT/fast_reid/tools/train_net.py --config-file AICUP_Baseline_BoT-SORT/fast_reid/configs/AICUP/bagtricks_R50-ibn.yml MODEL.DEVICE \"cuda:0\""
      ],
      "metadata": {
        "id": "2Ta3ZrMYBELM"
      },
      "execution_count": null,
      "outputs": []
    },
    {
      "cell_type": "code",
      "source": [
        "!python AICUP_Baseline_BoT-SORT/yolov7/tools/AICUP_to_YOLOv7.py --AICUP_dir train --YOLOv7_dir AICUP_Baseline_BoT-SORT/yolo"
      ],
      "metadata": {
        "id": "UHowb6E7AJQm"
      },
      "execution_count": null,
      "outputs": []
    },
    {
      "cell_type": "code",
      "source": [
        "!!sed -i '2s/nc: 80/nc: 1/' AICUP_Baseline_BoT-SORT/yolov7/cfg/training/yolov7-d6.yaml"
      ],
      "metadata": {
        "id": "Wwb1xuWMDQQT"
      },
      "execution_count": null,
      "outputs": []
    },
    {
      "cell_type": "code",
      "source": [
        "! python AICUP_Baseline_BoT-SORT/yolov7/train.py --batch-size 16 --epochs 200 --data AICUP_Baseline_BoT-SORT/yolov7/data/AICUP.yaml  --img 1280 1280 --cfg AICUP_Baseline_BoT-SORT/yolov7/cfg/training/yolov7-d6.yaml --weights yolov7-d6_training.pt --name AICUP --hyp hyp.yaml"
      ],
      "metadata": {
        "id": "ltna61ta4KDQ"
      },
      "execution_count": null,
      "outputs": []
    },
    {
      "cell_type": "markdown",
      "source": [
        "You should get your model in AICUP_Baseline_BoT-SORT/runs.\n",
        "\n",
        "If not make sure you have run every single line.\n"
      ],
      "metadata": {
        "id": "tx5aq_Ub_eQ5"
      }
    },
    {
      "cell_type": "markdown",
      "source": [
        "# Suggest for the host\n",
        "Next time, please do not force us to write all command in a single colab file, even a shell file is better than notebook."
      ],
      "metadata": {
        "id": "VP8asosmDUv-"
      }
    }
  ]
}
